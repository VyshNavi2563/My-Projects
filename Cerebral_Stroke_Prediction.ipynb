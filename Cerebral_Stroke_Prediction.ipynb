{
  "nbformat": 4,
  "nbformat_minor": 0,
  "metadata": {
    "colab": {
      "provenance": [],
      "authorship_tag": "ABX9TyOcQqFPJKPUnjG/U33ZPfS3",
      "include_colab_link": true
    },
    "kernelspec": {
      "name": "python3",
      "display_name": "Python 3"
    },
    "language_info": {
      "name": "python"
    }
  },
  "cells": [
    {
      "cell_type": "markdown",
      "metadata": {
        "id": "view-in-github",
        "colab_type": "text"
      },
      "source": [
        "<a href=\"https://colab.research.google.com/github/VyshNavi2563/My-Projects/blob/main/Cerebral_Stroke_Prediction.ipynb\" target=\"_parent\"><img src=\"https://colab.research.google.com/assets/colab-badge.svg\" alt=\"Open In Colab\"/></a>"
      ]
    },
    {
      "cell_type": "code",
      "source": [
        "#importing required libraries\n",
        "import pandas as pd\n",
        "import numpy as np\n",
        "\n",
        "# Load the dataset\n",
        "df = pd.read_csv('cerebral_stroke_prediction.csv')\n",
        "\n",
        "# Check for missing values\n",
        "df.isna().sum()\n",
        "\n",
        "# Handle missing values\n",
        "# Impute missing values with mean or median depending on the data type\n",
        "df['age'].fillna(df['age'].mean(), inplace=True)\n",
        "df['gender'].fillna(df['gender'].mode()[0], inplace=True)\n",
        "df['hypertension'].fillna(df['hypertension'].mode()[0], inplace=True)\n",
        "df['heart_disease'].fillna(df['heart_disease'].mode()[0], inplace=True)\n",
        "df['bmi'].fillna(df['bmi'].mean(), inplace=True)\n",
        "\n",
        "# Convert categorical variables to numerical variables\n",
        "df['gender'] = df['gender'].map({'Male': 1, 'Female': 0})\n",
        "\n",
        "# Scale the numerical variables\n",
        "from sklearn.preprocessing import StandardScaler\n",
        "\n",
        "scaler = StandardScaler()\n",
        "scaled_df = scaler.fit_transform(df[['age', 'bmi']])\n",
        "\n",
        "# Split the dataset into training and testing sets\n",
        "from sklearn.model_selection import train_test_split\n",
        "\n",
        "X = scaled_df\n",
        "y = df['stroke']\n",
        "X_train, X_test, y_train, y_test = train_test_split(X, y, test_size=0.25, random_state=42)\n"
      ],
      "metadata": {
        "id": "vHaho_VTYPLu"
      },
      "execution_count": null,
      "outputs": []
    },
    {
      "cell_type": "code",
      "source": [
        "from imblearn.over_sampling import SMOTE\n",
        "\n",
        "# Create a SMOTE object\n",
        "smote = SMOTE(random_state=42)\n",
        "\n",
        "# Oversample the training set\n",
        "X_train, y_train = smote.fit_resample(X_train, y_train)\n"
      ],
      "metadata": {
        "id": "zmapb3fmYgsj"
      },
      "execution_count": null,
      "outputs": []
    },
    {
      "cell_type": "code",
      "source": [
        "from sklearn.linear_model import LogisticRegression\n",
        "from sklearn.tree import DecisionTreeClassifier\n",
        "from sklearn.ensemble import RandomForestClassifier\n",
        "from sklearn.svm import SVC\n",
        "from xgboost import XGBClassifier\n",
        "\n",
        "# Create a list of models to evaluate\n",
        "models = [LogisticRegression(), DecisionTreeClassifier(), RandomForestClassifier(), SVC(), XGBClassifier()]\n",
        "\n",
        "# Train and evaluate each model\n",
        "results = {}\n",
        "for model in models:\n",
        "    model.fit(X_train, y_train)\n",
        "    y_pred = model.predict(X_test)\n",
        "\n",
        "    # Calculate the evaluation metrics\n",
        "    accuracy = np.mean(y_test == y_pred)\n",
        "    sensitivity = np.mean(y_test[y_test == 1] == y_pred[y_test == 1])\n",
        "    specificity = np.mean(y_test[y_test == 0] == y_pred[y_test == 0])\n",
        "\n",
        "    # Store the results\n",
        "    results[model.__class__.__name__] = {'accuracy': accuracy, 'sensitivity': sensitivity, 'specificity': specificity}\n",
        "\n",
        "# Print the results\n",
        "for model, result in results.items():\n",
        "    print(f'{model}: {result}')\n"
      ],
      "metadata": {
        "colab": {
          "base_uri": "https://localhost:8080/"
        },
        "id": "I1bYaZ9cYj9Y",
        "outputId": "194fd7a6-0506-42dd-d554-b85cc324a6c3"
      },
      "execution_count": null,
      "outputs": [
        {
          "output_type": "stream",
          "name": "stdout",
          "text": [
            "LogisticRegression: {'accuracy': 0.7216589861751153, 'sensitivity': 0.7836538461538461, 'specificity': 0.7204472843450479}\n",
            "DecisionTreeClassifier: {'accuracy': 0.9563133640552995, 'sensitivity': 0.1778846153846154, 'specificity': 0.9715279082879158}\n",
            "RandomForestClassifier: {'accuracy': 0.951705069124424, 'sensitivity': 0.18269230769230768, 'specificity': 0.9667355760195452}\n",
            "SVC: {'accuracy': 0.6937327188940092, 'sensitivity': 0.8269230769230769, 'specificity': 0.6911294869385454}\n",
            "XGBClassifier: {'accuracy': 0.8706912442396313, 'sensitivity': 0.375, 'specificity': 0.8803796278894944}\n"
          ]
        }
      ]
    }
  ]
}